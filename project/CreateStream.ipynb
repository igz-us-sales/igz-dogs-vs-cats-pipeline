{
 "cells": [
  {
   "cell_type": "markdown",
   "metadata": {},
   "source": [
    "### Create streams and tables"
   ]
  },
  {
   "cell_type": "code",
   "execution_count": 38,
   "metadata": {},
   "outputs": [],
   "source": [
    "import os\n",
    "import v3io.dataplane\n",
    "\n",
    "def handler(context, event):\n",
    "    # Create streams\n",
    "    v3io_client = v3io.dataplane.Client()\n",
    "    v3io_client.stream.create(container='bigdata',\n",
    "                              stream_path=str(context.inputs['stream_path']),\n",
    "                              shard_count=5,\n",
    "                              raise_for_status=[200, 204, 409])\n",
    "    context.log_result('stream_url', f\"http://v3io-webapi:8081/bigdata/{str(context.inputs['stream_path'])}\")"
   ]
  }
 ],
 "metadata": {
  "kernelspec": {
   "display_name": "Python [conda env:root] *",
   "language": "python",
   "name": "conda-root-py"
  },
  "language_info": {
   "codemirror_mode": {
    "name": "ipython",
    "version": 3
   },
   "file_extension": ".py",
   "mimetype": "text/x-python",
   "name": "python",
   "nbconvert_exporter": "python",
   "pygments_lexer": "ipython3",
   "version": "3.7.6"
  }
 },
 "nbformat": 4,
 "nbformat_minor": 4
}
