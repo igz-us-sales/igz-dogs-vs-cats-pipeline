{
 "cells": [
  {
   "cell_type": "code",
   "execution_count": 4,
   "metadata": {},
   "outputs": [],
   "source": [
    "import boto3\n",
    "import pandas as pd\n",
    "import os\n",
    "import ast\n",
    "\n",
    "def handler(context, event):\n",
    "    context.logger.info(\"Reading CSV\")\n",
    "    df = pd.read_csv(str(context.inputs['s3_images_csv']))\n",
    "    \n",
    "    if ast.literal_eval(str(context.inputs['download_data'])):\n",
    "        context.logger.info(\"Initializing S3\")\n",
    "        s3 = boto3.resource('s3')\n",
    "        bucket = s3.Bucket(str(context.inputs['bucket_name']))\n",
    "        data_download_path = str(context.inputs['data_download_path'])\n",
    "\n",
    "        context.logger.info(\"Creating Data Directories\")\n",
    "        os.makedirs(f\"{data_download_path}/dog\", exist_ok=True)\n",
    "        os.makedirs(f\"{data_download_path}/cat\", exist_ok=True)\n",
    "\n",
    "        context.logger.info(\"Downloading Dataset\")\n",
    "        for i, row in df.iterrows():\n",
    "            local_image = f\"{data_download_path}/{row['s3_image'].split('dogs_vs_cats/')[1]}\"\n",
    "            context.logger.debug(f\"Downloading Image {i+1}/{len(df)}\")\n",
    "            bucket.download_file(row['s3_image'], local_image)\n",
    "            df.at[i,'local_image'] = local_image\n",
    "    \n",
    "    context.logger.info(\"Logging Dataset / Path\")\n",
    "    context.log_dataset('s3_image_csv_local', df=df, format=\"csv\", index=False)\n",
    "    context.log_result(\"data_download_path\", str(context.inputs['data_download_path']))"
   ]
  },
  {
   "cell_type": "code",
   "execution_count": null,
   "metadata": {},
   "outputs": [],
   "source": []
  }
 ],
 "metadata": {
  "kernelspec": {
   "display_name": "Python [conda env:root] *",
   "language": "python",
   "name": "conda-root-py"
  },
  "language_info": {
   "codemirror_mode": {
    "name": "ipython",
    "version": 3
   },
   "file_extension": ".py",
   "mimetype": "text/x-python",
   "name": "python",
   "nbconvert_exporter": "python",
   "pygments_lexer": "ipython3",
   "version": "3.7.6"
  }
 },
 "nbformat": 4,
 "nbformat_minor": 4
}
