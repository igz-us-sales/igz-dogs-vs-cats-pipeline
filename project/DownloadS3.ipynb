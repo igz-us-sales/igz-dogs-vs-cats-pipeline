{
 "cells": [
  {
   "cell_type": "code",
   "execution_count": 1,
   "metadata": {},
   "outputs": [],
   "source": [
    "#nuclio: code-start"
   ]
  },
  {
   "cell_type": "code",
   "execution_count": 14,
   "metadata": {},
   "outputs": [],
   "source": [
    "import boto3\n",
    "import pandas as pd\n",
    "\n",
    "def init_context(context):\n",
    "    context.s3 = boto3.resource('s3')\n",
    "    context.bucket = s3.Bucket(str(context.params('bucket_name')))\n",
    "#     context.bucket = s3.Bucket(str(context.bucket_name))\n",
    "\n",
    "def handler(context, event):\n",
    "    df = pd.read_csv(str(context.params('s3_images_csv')))\n",
    "#     df = pd.read_csv(str(context.s3_images_csv))\n",
    "    \n",
    "    for i, row in df.head().iterrows():\n",
    "        print(row['bucket'])"
   ]
  },
  {
   "cell_type": "code",
   "execution_count": 15,
   "metadata": {},
   "outputs": [],
   "source": [
    "#nuclio: code-end"
   ]
  },
  {
   "cell_type": "code",
   "execution_count": 16,
   "metadata": {},
   "outputs": [],
   "source": [
    "from nuclio_sdk import Context"
   ]
  },
  {
   "cell_type": "code",
   "execution_count": 17,
   "metadata": {},
   "outputs": [],
   "source": [
    "context = Context()"
   ]
  },
  {
   "cell_type": "code",
   "execution_count": 18,
   "metadata": {},
   "outputs": [],
   "source": [
    "setattr(context, \"bucket_name\", \"nir-presto\")\n",
    "setattr(context, \"s3_images_csv\", \"/v3io/users/nick/igz_repos/igz-dogs-vs-cats-pipeline/data/s3_images.csv\")"
   ]
  },
  {
   "cell_type": "code",
   "execution_count": 22,
   "metadata": {},
   "outputs": [
    {
     "name": "stdout",
     "output_type": "stream",
     "text": [
      "nir-presto\n",
      "nir-presto\n",
      "nir-presto\n",
      "nir-presto\n",
      "nir-presto\n",
      "CPU times: user 19.8 ms, sys: 4.13 ms, total: 23.9 ms\n",
      "Wall time: 38.6 ms\n"
     ]
    }
   ],
   "source": [
    "%%time\n",
    "handler(context, \"\")"
   ]
  },
  {
   "cell_type": "code",
   "execution_count": null,
   "metadata": {},
   "outputs": [],
   "source": []
  }
 ],
 "metadata": {
  "kernelspec": {
   "display_name": "Python [conda env:root] *",
   "language": "python",
   "name": "conda-root-py"
  },
  "language_info": {
   "codemirror_mode": {
    "name": "ipython",
    "version": 3
   },
   "file_extension": ".py",
   "mimetype": "text/x-python",
   "name": "python",
   "nbconvert_exporter": "python",
   "pygments_lexer": "ipython3",
   "version": "3.7.6"
  }
 },
 "nbformat": 4,
 "nbformat_minor": 4
}
