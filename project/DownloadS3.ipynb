{
 "cells": [
  {
   "cell_type": "code",
   "execution_count": 4,
   "metadata": {},
   "outputs": [],
   "source": [
    "import boto3\n",
    "import pandas as pd\n",
    "\n",
    "def handler(context, event):\n",
    "    s3 = boto3.resource('s3')\n",
    "    bucket = s3.Bucket(str(context.inputs['bucket_name']))\n",
    "    data_download_path = str(context.inputs['data_download_path'])\n",
    "    df = pd.read_csv(str(context.inputs['s3_images_csv']))\n",
    "    \n",
    "    context.logger.info(\"Downloading Dataset\")\n",
    "    for i, row in df.iterrows():\n",
    "        local_image = f\"{data_download_path}/{row['s3_image'].split('dogs_vs_cats/')[1]}\"\n",
    "#         print(row['s3_image'], local_image)\n",
    "#         bucket.download_file(row['s3_image'], local_image)\n",
    "        df.at[i,'local_image'] = local_image\n",
    "    \n",
    "    context.logger.info(\"Logging Dataset\")\n",
    "    context.log_dataset('s3_image_csv_local', df=df, format=\"csv\", index=False)"
   ]
  }
 ],
 "metadata": {
  "kernelspec": {
   "display_name": "Python [conda env:root] *",
   "language": "python",
   "name": "conda-root-py"
  },
  "language_info": {
   "codemirror_mode": {
    "name": "ipython",
    "version": 3
   },
   "file_extension": ".py",
   "mimetype": "text/x-python",
   "name": "python",
   "nbconvert_exporter": "python",
   "pygments_lexer": "ipython3",
   "version": "3.7.6"
  }
 },
 "nbformat": 4,
 "nbformat_minor": 4
}
