{
 "cells": [
  {
   "cell_type": "code",
   "execution_count": 38,
   "metadata": {},
   "outputs": [],
   "source": [
    "import boto3\n",
    "import pandas as pd\n",
    "\n",
    "def init_context(context):\n",
    "    context.logger.info(\"INIT_CONTEXT\")\n",
    "#     setattr(context, 's3', boto3.resource('s3'))\n",
    "#     setattr(context, 'bucket', s3.Bucket(str(context.inputs['bucket_name'])))\n",
    "#     setattr(context, 'data_download_path', str(context.inputs['data_download_path']))\n",
    "#     print(context.s3)\n",
    "\n",
    "def handler(context, event):\n",
    "    context.logger.info(\"HANDLER\")\n",
    "#     print(context.s3)\n",
    "#     df = pd.read_csv(str(context.inputs['s3_images_csv']))\n",
    "#     for i, row in df.head().iterrows():\n",
    "#         local_image = f\"{context.data_download_path}/{row['s3_image'].split('dogs_vs_cats/')[1]}\"\n",
    "#         print(row['s3_image'], local_image)\n",
    "# #         df.at[i,'local_image'] = local_image"
   ]
  },
  {
   "cell_type": "code",
   "execution_count": null,
   "metadata": {},
   "outputs": [],
   "source": []
  }
 ],
 "metadata": {
  "kernelspec": {
   "display_name": "Python [conda env:root] *",
   "language": "python",
   "name": "conda-root-py"
  },
  "language_info": {
   "codemirror_mode": {
    "name": "ipython",
    "version": 3
   },
   "file_extension": ".py",
   "mimetype": "text/x-python",
   "name": "python",
   "nbconvert_exporter": "python",
   "pygments_lexer": "ipython3",
   "version": "3.7.6"
  }
 },
 "nbformat": 4,
 "nbformat_minor": 4
}
