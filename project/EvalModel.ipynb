{
 "cells": [
  {
   "cell_type": "code",
   "execution_count": null,
   "metadata": {},
   "outputs": [],
   "source": [
    "import torch\n",
    "from torch import nn\n",
    "import torch.nn.functional as F\n",
    "from cloudpickle import loads\n",
    "\n",
    "def handler(context, event):\n",
    "    context.logger.info(\"Loading Model\")\n",
    "    print(str(context.inputs['model']))\n",
    "    print(context.inputs['model'].get())\n",
    "    print(type(context.inputs['model'].get()))\n",
    "    \n",
    "    return\n",
    "    model = torch.load(str(context.inputs['model']))\n",
    "#     model = loads(context.inputs['model'].get())\n",
    "    model.eval()\n",
    "    \n",
    "    context.logger.info(\"Loading Data Loader\")\n",
    "    test_data_loader = loads(context.inputs['test_data_loader'].get())\n",
    "    \n",
    "    context.logger.info(\"Inferencing Model\")\n",
    "    num_correct = 0 \n",
    "    num_examples = 0\n",
    "    test_loss = 0.0\n",
    "    device = str(context.inputs['device'])\n",
    "    with torch.no_grad():    \n",
    "        for batch in test_data_loader:\n",
    "            inputs, targets = batch\n",
    "            inputs = inputs.to(device)\n",
    "            output = model(inputs)\n",
    "            targets = targets.to(device)\n",
    "            \n",
    "            loss = nn.CrossEntropyLoss()(output,targets) \n",
    "            test_loss += loss.data.item() * inputs.size(0)\n",
    "                        \n",
    "            correct = torch.eq(torch.max(F.softmax(output, dim=1), dim=1)[1], targets).view(-1)\n",
    "            num_correct += torch.sum(correct).item()\n",
    "            num_examples += correct.shape[0]\n",
    "        test_loss /= len(test_data_loader.dataset)        \n",
    "                \n",
    "    context.logger.info(\"Logging Results\")\n",
    "    context.logger.info('Test Loss: {:.4f}, Test Accuracy = {:.4f}'.format(test_loss, num_correct / num_examples))\n",
    "    results = {\"test_loss\" : test_loss,\n",
    "               \"test_accuracy\" : num_correct / num_examples}\n",
    "    context.log_results(results)"
   ]
  }
 ],
 "metadata": {
  "kernelspec": {
   "display_name": "Python [conda env:root] *",
   "language": "python",
   "name": "conda-root-py"
  },
  "language_info": {
   "codemirror_mode": {
    "name": "ipython",
    "version": 3
   },
   "file_extension": ".py",
   "mimetype": "text/x-python",
   "name": "python",
   "nbconvert_exporter": "python",
   "pygments_lexer": "ipython3",
   "version": "3.7.6"
  }
 },
 "nbformat": 4,
 "nbformat_minor": 4
}
