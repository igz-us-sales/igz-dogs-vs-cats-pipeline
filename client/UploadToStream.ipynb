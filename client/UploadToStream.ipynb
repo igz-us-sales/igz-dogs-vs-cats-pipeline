{
 "cells": [
  {
   "cell_type": "code",
   "execution_count": 11,
   "metadata": {},
   "outputs": [],
   "source": [
    "import glob\n",
    "import random\n",
    "import json\n",
    "import v3io.dataplane\n",
    "\n",
    "def get_image_list(image_dir):\n",
    "    \"\"\"\n",
    "    Get a list of images from a given path.\n",
    "    \"\"\"\n",
    "    image_list = glob.glob(f\"{image_dir}/**/*.jpg\", recursive=True)\n",
    "    random.seed(42)\n",
    "    random.shuffle(image_list)\n",
    "    return image_list\n",
    "\n",
    "def encode_batch(image_batch):\n",
    "    payload  = [{\"shard_id\" : 0, \"data\" : json.dumps(image_batch)}]\n",
    "    return payload\n",
    "    \n",
    "def upload_to_stream(stream, image_dir, batch_size=32):\n",
    "    \"\"\"\n",
    "    Upload images to a V3io stream from local directory.\n",
    "    \"\"\"\n",
    "    image_list = get_image_list(image_dir=image_dir)\n",
    "    \n",
    "    image_batch = [f\"/stream/{image_list[i].split('data/')[-1]}\" for i in range(batch_size)]\n",
    "\n",
    "    payload = encode_batch(image_batch)\n",
    "    \n",
    "    v3io_client = v3io.dataplane.Client()\n",
    "    return v3io_client.stream.put_records(container=\"bigdata\",\n",
    "                                          stream_path=stream,\n",
    "                                          records=payload)"
   ]
  },
  {
   "cell_type": "code",
   "execution_count": 18,
   "metadata": {},
   "outputs": [
    {
     "data": {
      "text/plain": [
       "200"
      ]
     },
     "execution_count": 18,
     "metadata": {},
     "output_type": "execute_result"
    }
   ],
   "source": [
    "resp = upload_to_stream(\"dogs_vs_cats/stream\", \"/v3io/bigdata/dogs_vs_cats/data/\", batch_size=1024)\n",
    "print(resp.status_code)"
   ]
  },
  {
   "cell_type": "code",
   "execution_count": null,
   "metadata": {},
   "outputs": [],
   "source": []
  }
 ],
 "metadata": {
  "kernelspec": {
   "display_name": "Python [conda env:root] *",
   "language": "python",
   "name": "conda-root-py"
  },
  "language_info": {
   "codemirror_mode": {
    "name": "ipython",
    "version": 3
   },
   "file_extension": ".py",
   "mimetype": "text/x-python",
   "name": "python",
   "nbconvert_exporter": "python",
   "pygments_lexer": "ipython3",
   "version": "3.7.6"
  }
 },
 "nbformat": 4,
 "nbformat_minor": 4
}
