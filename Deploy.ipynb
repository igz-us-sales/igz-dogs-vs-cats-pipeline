{
 "cells": [
  {
   "cell_type": "markdown",
   "metadata": {},
   "source": [
    "### Setup MLRun"
   ]
  },
  {
   "cell_type": "code",
   "execution_count": null,
   "metadata": {},
   "outputs": [],
   "source": [
    "# !pip install mlrun==0.5.4"
   ]
  },
  {
   "cell_type": "code",
   "execution_count": null,
   "metadata": {},
   "outputs": [],
   "source": [
    "# !pip install --upgrade v3io"
   ]
  },
  {
   "cell_type": "code",
   "execution_count": 1,
   "metadata": {},
   "outputs": [
    {
     "name": "stdout",
     "output_type": "stream",
     "text": [
      "Project path: /User/igz_repos/igz-inference-benchmark/project\n",
      "Project name: inference-benchmark\n",
      "Artifacts path: /User/igz_repos/igz-inference-benchmark/artifacts\n",
      "MLRun DB path: http://mlrun-api:8080\n"
     ]
    }
   ],
   "source": [
    "import os\n",
    "from os import path, getenv\n",
    "import nuclio\n",
    "from mlrun import new_project, code_to_function, run_local, NewTask, mlconf, import_function, mount_v3io, new_function\n",
    "\n",
    "project_name = \"inference-benchmark\"\n",
    "project_path = path.abspath('project')\n",
    "project = new_project(name=project_name, context=project_path)\n",
    "artifact_path = path.abspath('artifacts')\n",
    "mlconf.dbpath = mlconf.dbpath or 'http://mlrun-api:8080'\n",
    "\n",
    "print(f'Project path: {project_path}\\nProject name: {project_name}')\n",
    "print(f'Artifacts path: {artifact_path}\\nMLRun DB path: {mlconf.dbpath}')"
   ]
  },
  {
   "cell_type": "markdown",
   "metadata": {},
   "source": [
    "### Build Docker Image"
   ]
  },
  {
   "cell_type": "code",
   "execution_count": 2,
   "metadata": {},
   "outputs": [],
   "source": [
    "image = f\"docker-registry.{os.getenv('IGZ_NAMESPACE_DOMAIN')}:80/inference-benchmarking-demo\""
   ]
  },
  {
   "cell_type": "code",
   "execution_count": 3,
   "metadata": {},
   "outputs": [],
   "source": [
    "# # Build Docker Image (only needs to be run once)\n",
    "# build_image = new_function(name=\"build-image\", kind=\"job\")\n",
    "# build_image.build_config(\n",
    "#     image=image, base_image=\"mlrun/ml-models-gpu\", commands=[\"pip install v3io_frames\"]\n",
    "# )\n",
    "# build_image.deploy(with_mlrun=False)"
   ]
  },
  {
   "cell_type": "markdown",
   "metadata": {},
   "source": [
    "### Import Functions"
   ]
  },
  {
   "cell_type": "code",
   "execution_count": 4,
   "metadata": {},
   "outputs": [
    {
     "data": {
      "text/plain": [
       "<mlrun.runtimes.function.RemoteRuntime at 0x7f9fcd591290>"
      ]
     },
     "execution_count": 4,
     "metadata": {},
     "output_type": "execute_result"
    }
   ],
   "source": [
    "project.set_function(func='CreateStream.ipynb',\n",
    "                     name='create-stream',\n",
    "                     kind='job')\n",
    "project.set_function(func='InferenceBenchmark.ipynb',\n",
    "                     name='inference-benchmark',\n",
    "                     kind='nuclio')"
   ]
  },
  {
   "cell_type": "markdown",
   "metadata": {},
   "source": [
    "### Pipeline"
   ]
  },
  {
   "cell_type": "code",
   "execution_count": 13,
   "metadata": {},
   "outputs": [
    {
     "name": "stdout",
     "output_type": "stream",
     "text": [
      "Overwriting /User/igz_repos/igz-inference-benchmark/project/workflow.py\n"
     ]
    }
   ],
   "source": [
    "%%writefile {path.join(project_path, 'workflow.py')}\n",
    "\n",
    "import os\n",
    "from kfp import dsl\n",
    "from mlrun import mount_v3io\n",
    "\n",
    "image = f\"docker-registry.{os.getenv('IGZ_NAMESPACE_DOMAIN')}:80/inference-benchmarking-demo\"\n",
    "funcs = {}\n",
    "\n",
    "# Configure function resources and local settings\n",
    "def init_functions(functions: dict, project=None, secrets=None):\n",
    "    \n",
    "    for fn in functions.values():\n",
    "        # Apply V3IO mount\n",
    "        fn.apply(mount_v3io(name=\"model\",\n",
    "                            remote=\"users/nick/igz_repos/igz-inference-benchmark/models\",\n",
    "                            mount_path=\"/model\"))\n",
    "        fn.apply(mount_v3io(name=\"stream\",\n",
    "                            remote=\"bigdata/dogs_vs_cats/data/\",\n",
    "                            mount_path=\"/stream\"))\n",
    "            \n",
    "        # Set resources for jobs\n",
    "        if fn.to_dict()[\"kind\"] == \"job\":\n",
    "            fn.spec.build.image = image\n",
    "            \n",
    "        # Set resources for nuclio functions\n",
    "        elif fn.to_dict()[\"kind\"] == \"remote\":\n",
    "            fn.spec.base_spec['spec']['build']['baseImage'] = image\n",
    "            fn.spec.base_spec['spec']['loggerSinks'] = [{'level': 'info'}]\n",
    "            fn.spec.min_replicas = 1\n",
    "            fn.spec.max_replicas = 1\n",
    "        \n",
    "    # Apply V3IO trigger\n",
    "    image_igestion_trigger_spec={\n",
    "        'kind': 'v3ioStream',\n",
    "        'url' : f\"http://v3io-webapi:8081/bigdata/dogs_vs_cats/stream@processorgrp\",\n",
    "        \"password\": os.getenv('V3IO_ACCESS_KEY'),  \n",
    "        'attributes': {\"pollingIntervalMs\": 500,\n",
    "            \"seekTo\": \"earliest\",\n",
    "            \"readBatchSize\": 100,\n",
    "            \"partitions\": \"0-100\",                          \n",
    "          }\n",
    "    }\n",
    "    functions['inference-benchmark'].add_trigger('image-proc', image_igestion_trigger_spec)\n",
    "#     functions['inference-benchmark'].with_limits(gpus=\"1\", gpu_type='nvidia.com/gpu')\n",
    "\n",
    "# Create a Kubeflow Pipelines pipeline\n",
    "@dsl.pipeline(\n",
    "    name=\"Inference Benchmark\",\n",
    "    description=\"Benchmark Model Inferencing with CPUs vs GPUs\"\n",
    ")\n",
    "def kfpipeline(model_path:str = '/model/dogs_vs_cats_resnet50.pth',\n",
    "               stream_path:str = \"dogs_vs_cats/stream\",\n",
    "               table_path:str = \"dogs_vs_cats/table\",\n",
    "               batch_size:int = 32,\n",
    "               num_batches:int = 8,\n",
    "               device:str = \"cpu\"):\n",
    "\n",
    "#     device = \"cuda\" if torch.cuda.is_available() else \"cpu\"\n",
    "    \n",
    "    \n",
    "    inputs = {\"stream_path\" : stream_path}\n",
    "    create_stream = funcs['create-stream'].as_step(handler=\"handler\", inputs=inputs, outputs=[\"stream_url\"])\n",
    "    \n",
    "    env = {\"model_path\" : model_path,\n",
    "           \"stream_path\" : create_stream.outputs[\"stream_url\"],\n",
    "           \"table_path\" : table_path,\n",
    "           \"batch_size\" : batch_size,\n",
    "           \"num_batches\" : num_batches,\n",
    "           \"device\" : device}\n",
    "    \n",
    "    # Inference benchmarking on GPU/CPU\n",
    "    benchmark = funcs['inference-benchmark'].deploy_step(env=env)"
   ]
  },
  {
   "cell_type": "markdown",
   "metadata": {},
   "source": [
    "### Save Pipeline"
   ]
  },
  {
   "cell_type": "code",
   "execution_count": 14,
   "metadata": {},
   "outputs": [],
   "source": [
    "project.set_workflow('main', 'workflow.py')\n",
    "project.save()"
   ]
  },
  {
   "cell_type": "markdown",
   "metadata": {},
   "source": [
    "### Run Pipeline"
   ]
  },
  {
   "cell_type": "code",
   "execution_count": 15,
   "metadata": {},
   "outputs": [
    {
     "data": {
      "text/html": [
       "Experiment link <a href=\"https://dashboard.default-tenant.app.us-sales.iguazio-cd2.com/pipelines/#/experiments/details/7e68bed6-14f6-4ae8-b6d0-3b189afbe372\" target=\"_blank\" >here</a>"
      ],
      "text/plain": [
       "<IPython.core.display.HTML object>"
      ]
     },
     "metadata": {},
     "output_type": "display_data"
    },
    {
     "data": {
      "text/html": [
       "Run link <a href=\"https://dashboard.default-tenant.app.us-sales.iguazio-cd2.com/pipelines/#/runs/details/6dc23082-a893-4443-b02b-ebda7cc6d158\" target=\"_blank\" >here</a>"
      ],
      "text/plain": [
       "<IPython.core.display.HTML object>"
      ]
     },
     "metadata": {},
     "output_type": "display_data"
    },
    {
     "name": "stdout",
     "output_type": "stream",
     "text": [
      "> 2020-12-08 20:57:07,530 [info] Pipeline run id=6dc23082-a893-4443-b02b-ebda7cc6d158, check UI or DB for progress\n"
     ]
    }
   ],
   "source": [
    "run_id = project.run(\n",
    "    'main',\n",
    "    arguments={}, \n",
    "    artifact_path=path.abspath(path.join('pipeline','{{workflow.uid}}')), \n",
    "    dirty=True)"
   ]
  },
  {
   "cell_type": "code",
   "execution_count": 16,
   "metadata": {},
   "outputs": [],
   "source": [
    "from mlrun import wait_for_pipeline_completion, get_run_db\n",
    "wait_for_pipeline_completion(run_id);"
   ]
  },
  {
   "cell_type": "markdown",
   "metadata": {},
   "source": [
    "### Upload to Stream"
   ]
  },
  {
   "cell_type": "code",
   "execution_count": 17,
   "metadata": {},
   "outputs": [
    {
     "name": "stdout",
     "output_type": "stream",
     "text": [
      "200\n"
     ]
    }
   ],
   "source": [
    "%run client/UploadToStream.ipynb"
   ]
  },
  {
   "cell_type": "markdown",
   "metadata": {},
   "source": [
    "### Read KV"
   ]
  },
  {
   "cell_type": "code",
   "execution_count": 18,
   "metadata": {},
   "outputs": [
    {
     "name": "stdout",
     "output_type": "stream",
     "text": [
      "Inference Times by Run\n"
     ]
    },
    {
     "data": {
      "text/html": [
       "<div>\n",
       "<style scoped>\n",
       "    .dataframe tbody tr th:only-of-type {\n",
       "        vertical-align: middle;\n",
       "    }\n",
       "\n",
       "    .dataframe tbody tr th {\n",
       "        vertical-align: top;\n",
       "    }\n",
       "\n",
       "    .dataframe thead th {\n",
       "        text-align: right;\n",
       "    }\n",
       "</style>\n",
       "<table border=\"1\" class=\"dataframe\">\n",
       "  <thead>\n",
       "    <tr style=\"text-align: right;\">\n",
       "      <th></th>\n",
       "      <th></th>\n",
       "      <th></th>\n",
       "      <th>num_batches</th>\n",
       "      <th>avg_batch_inference_time</th>\n",
       "      <th>total_inference_time</th>\n",
       "    </tr>\n",
       "    <tr>\n",
       "      <th>device</th>\n",
       "      <th>batch_size</th>\n",
       "      <th>run_id</th>\n",
       "      <th></th>\n",
       "      <th></th>\n",
       "      <th></th>\n",
       "    </tr>\n",
       "  </thead>\n",
       "  <tbody>\n",
       "    <tr>\n",
       "      <th rowspan=\"4\" valign=\"top\">cpu</th>\n",
       "      <th rowspan=\"3\" valign=\"top\">16</th>\n",
       "      <th>1607372493.6984217</th>\n",
       "      <td>8</td>\n",
       "      <td>0.662452</td>\n",
       "      <td>6.374100</td>\n",
       "    </tr>\n",
       "    <tr>\n",
       "      <th>1607460873.3855944</th>\n",
       "      <td>8</td>\n",
       "      <td>0.690585</td>\n",
       "      <td>6.411161</td>\n",
       "    </tr>\n",
       "    <tr>\n",
       "      <th>1607460886.4499474</th>\n",
       "      <td>8</td>\n",
       "      <td>0.737905</td>\n",
       "      <td>6.851224</td>\n",
       "    </tr>\n",
       "    <tr>\n",
       "      <th>32</th>\n",
       "      <th>1607461074.4271812</th>\n",
       "      <td>8</td>\n",
       "      <td>1.751511</td>\n",
       "      <td>15.812861</td>\n",
       "    </tr>\n",
       "  </tbody>\n",
       "</table>\n",
       "</div>"
      ],
      "text/plain": [
       "                                      num_batches  avg_batch_inference_time  \\\n",
       "device batch_size run_id                                                      \n",
       "cpu    16         1607372493.6984217            8                  0.662452   \n",
       "                  1607460873.3855944            8                  0.690585   \n",
       "                  1607460886.4499474            8                  0.737905   \n",
       "       32         1607461074.4271812            8                  1.751511   \n",
       "\n",
       "                                      total_inference_time  \n",
       "device batch_size run_id                                    \n",
       "cpu    16         1607372493.6984217              6.374100  \n",
       "                  1607460873.3855944              6.411161  \n",
       "                  1607460886.4499474              6.851224  \n",
       "       32         1607461074.4271812             15.812861  "
      ]
     },
     "metadata": {},
     "output_type": "display_data"
    },
    {
     "name": "stdout",
     "output_type": "stream",
     "text": [
      "\n",
      "Average Inference Times by Batch Size\n"
     ]
    },
    {
     "data": {
      "text/html": [
       "<div>\n",
       "<style scoped>\n",
       "    .dataframe tbody tr th:only-of-type {\n",
       "        vertical-align: middle;\n",
       "    }\n",
       "\n",
       "    .dataframe tbody tr th {\n",
       "        vertical-align: top;\n",
       "    }\n",
       "\n",
       "    .dataframe thead th {\n",
       "        text-align: right;\n",
       "    }\n",
       "</style>\n",
       "<table border=\"1\" class=\"dataframe\">\n",
       "  <thead>\n",
       "    <tr style=\"text-align: right;\">\n",
       "      <th></th>\n",
       "      <th></th>\n",
       "      <th>num_batches</th>\n",
       "      <th>avg_batch_inference_time</th>\n",
       "      <th>total_inference_time</th>\n",
       "    </tr>\n",
       "    <tr>\n",
       "      <th>device</th>\n",
       "      <th>batch_size</th>\n",
       "      <th></th>\n",
       "      <th></th>\n",
       "      <th></th>\n",
       "    </tr>\n",
       "  </thead>\n",
       "  <tbody>\n",
       "    <tr>\n",
       "      <th rowspan=\"2\" valign=\"top\">cpu</th>\n",
       "      <th>16</th>\n",
       "      <td>8</td>\n",
       "      <td>0.696981</td>\n",
       "      <td>6.545495</td>\n",
       "    </tr>\n",
       "    <tr>\n",
       "      <th>32</th>\n",
       "      <td>8</td>\n",
       "      <td>1.751511</td>\n",
       "      <td>15.812861</td>\n",
       "    </tr>\n",
       "  </tbody>\n",
       "</table>\n",
       "</div>"
      ],
      "text/plain": [
       "                   num_batches  avg_batch_inference_time  total_inference_time\n",
       "device batch_size                                                             \n",
       "cpu    16                    8                  0.696981              6.545495\n",
       "       32                    8                  1.751511             15.812861"
      ]
     },
     "metadata": {},
     "output_type": "display_data"
    }
   ],
   "source": [
    "import v3io.dataplane\n",
    "import pandas as pd\n",
    "v3io_client = v3io.dataplane.Client()\n",
    "items_cursor = v3io_client.kv.new_cursor(container=\"bigdata\",\n",
    "                                 table_path=\"dogs_vs_cats/table\",\n",
    "                                 raise_for_status=[200, 204, 404])\n",
    "records = [item for item in items_cursor.all()]\n",
    "\n",
    "df = pd.DataFrame(records)\n",
    "df[\"num_batches\"] = pd.to_numeric(df[\"num_batches\"])\n",
    "df[\"batch_size\"] = pd.to_numeric(df[\"batch_size\"])\n",
    "df[\"avg_batch_inference_time\"] = pd.to_numeric(df[\"avg_batch_inference_time\"])\n",
    "df[\"total_inference_time\"] = pd.to_numeric(df[\"total_inference_time\"])\n",
    "df_print = df.set_index([\"device\", \"batch_size\", \"__name\"]).rename_axis([\"device\", 'batch_size', 'run_id']).sort_index()\n",
    "\n",
    "print(\"Inference Times by Run\")\n",
    "display(df_print)\n",
    "print()\n",
    "print(\"Average Inference Times by Batch Size\")\n",
    "df_mean = df_print.groupby([\"device\", \"batch_size\"]).mean()\n",
    "display(df_mean)"
   ]
  },
  {
   "cell_type": "markdown",
   "metadata": {},
   "source": [
    "### Plot Results"
   ]
  },
  {
   "cell_type": "code",
   "execution_count": 19,
   "metadata": {},
   "outputs": [
    {
     "data": {
      "image/png": "[encoded data removed]",
      "text/plain": [
       "<Figure size 720x360 with 1 Axes>"
      ]
     },
     "metadata": {},
     "output_type": "display_data"
    }
   ],
   "source": [
    "from matplotlib import pyplot as plt\n",
    "import seaborn as sns\n",
    "sns.set_theme()\n",
    "\n",
    "df_plot = df.groupby([\"batch_size\", \"device\"]).mean()\n",
    "plt.figure(figsize=(10,5))\n",
    "batch_chart = sns.scatterplot(\n",
    "    x=\"batch_size\",\n",
    "    y=\"avg_batch_inference_time\",\n",
    "    hue='device',\n",
    "    s=100,\n",
    "    data=df_plot)\n",
    "plt.title('Average Batch Inference Time vs Batch Size by Device');\n",
    "plt.xlabel(\"Batch Size\");\n",
    "plt.ylabel(\"Average Batch Inference Time\");"
   ]
  },
  {
   "cell_type": "code",
   "execution_count": null,
   "metadata": {},
   "outputs": [],
   "source": []
  }
 ],
 "metadata": {
  "kernelspec": {
   "display_name": "Python [conda env:root] *",
   "language": "python",
   "name": "conda-root-py"
  },
  "language_info": {
   "codemirror_mode": {
    "name": "ipython",
    "version": 3
   },
   "file_extension": ".py",
   "mimetype": "text/x-python",
   "name": "python",
   "nbconvert_exporter": "python",
   "pygments_lexer": "ipython3",
   "version": "3.7.6"
  }
 },
 "nbformat": 4,
 "nbformat_minor": 4
}
