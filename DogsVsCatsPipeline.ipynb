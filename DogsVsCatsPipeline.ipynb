{
 "cells": [
  {
   "cell_type": "markdown",
   "metadata": {},
   "source": [
    "### Install MLRun"
   ]
  },
  {
   "cell_type": "code",
   "execution_count": 1,
   "metadata": {},
   "outputs": [],
   "source": [
    "# !pip install mlrun==0.5.4"
   ]
  },
  {
   "cell_type": "code",
   "execution_count": 2,
   "metadata": {},
   "outputs": [],
   "source": [
    "# !pip install --upgrade v3io boto3"
   ]
  },
  {
   "cell_type": "markdown",
   "metadata": {},
   "source": [
    "### Load Config"
   ]
  },
  {
   "cell_type": "code",
   "execution_count": 3,
   "metadata": {},
   "outputs": [],
   "source": [
    "import yaml\n",
    "with open(\"config.yaml\") as f:\n",
    "    config = yaml.safe_load(f)"
   ]
  },
  {
   "cell_type": "markdown",
   "metadata": {},
   "source": [
    "### Setup Project"
   ]
  },
  {
   "cell_type": "code",
   "execution_count": 4,
   "metadata": {},
   "outputs": [
    {
     "name": "stderr",
     "output_type": "stream",
     "text": [
      "/User/.pythonlibs/nick-jupyter/lib/python3.7/site-packages/requests/__init__.py:91: RequestsDependencyWarning: urllib3 (1.26.2) or chardet (3.0.4) doesn't match a supported version!\n",
      "  RequestsDependencyWarning)\n"
     ]
    },
    {
     "name": "stdout",
     "output_type": "stream",
     "text": [
      "Project name: dogs-vs-cats-demo\n",
      "Project path: /User/igz_repos/igz-dogs-vs-cats-pipeline/project\n",
      "Artifacts path: /User/igz_repos/igz-dogs-vs-cats-pipeline/pipeline\n",
      "MLRun DB path: http://mlrun-api:8080\n"
     ]
    }
   ],
   "source": [
    "import os\n",
    "from os import path, getenv\n",
    "import nuclio\n",
    "from mlrun import new_project, code_to_function, run_local, NewTask, mlconf, import_function, mount_v3io, new_function\n",
    "\n",
    "project_name = config[\"project\"][\"name\"]\n",
    "project_path = path.abspath('project')\n",
    "project = new_project(name=project_name, context=project_path)\n",
    "artifact_path = path.abspath('pipeline')\n",
    "mlconf.dbpath = mlconf.dbpath or 'http://mlrun-api:8080'\n",
    "\n",
    "print(f'Project name: {project_name}\\nProject path: {project_path}')\n",
    "print(f'Artifacts path: {artifact_path}\\nMLRun DB path: {mlconf.dbpath}')"
   ]
  },
  {
   "cell_type": "markdown",
   "metadata": {},
   "source": [
    "### Build Docker Image"
   ]
  },
  {
   "cell_type": "code",
   "execution_count": 5,
   "metadata": {},
   "outputs": [],
   "source": [
    "image = f\"docker-registry.{os.getenv('IGZ_NAMESPACE_DOMAIN')}:80/{config['docker']['s3_image']}\""
   ]
  },
  {
   "cell_type": "code",
   "execution_count": 6,
   "metadata": {},
   "outputs": [],
   "source": [
    "# # Build Docker Image (only needs to be run once)\n",
    "# build_image = new_function(name=\"build-image\", kind=\"job\")\n",
    "# build_image.build_config(\n",
    "#     image=image, base_image=\"mlrun/mlrun\", commands=[\"pip install boto3\"]\n",
    "# )\n",
    "# build_image.deploy(with_mlrun=False)"
   ]
  },
  {
   "cell_type": "markdown",
   "metadata": {},
   "source": [
    "### Import Functions"
   ]
  },
  {
   "cell_type": "code",
   "execution_count": 7,
   "metadata": {},
   "outputs": [
    {
     "data": {
      "text/plain": [
       "<mlrun.runtimes.kubejob.KubejobRuntime at 0x7faaa5b0fdd0>"
      ]
     },
     "execution_count": 7,
     "metadata": {},
     "output_type": "execute_result"
    }
   ],
   "source": [
    "project.set_function(func='DownloadS3.ipynb',\n",
    "                     name='download-s3',\n",
    "                     kind='job',\n",
    "                     image=image)\n",
    "project.set_function(func='PrepData.ipynb',\n",
    "                     name='prep-data',\n",
    "                     kind='job',\n",
    "                     image=\"mlrun/ml-models-gpu\")\n",
    "project.set_function(func='TrainModel.ipynb',\n",
    "                     name='train-model',\n",
    "                     kind='job',\n",
    "                     image=\"mlrun/ml-models-gpu\")\n",
    "project.set_function(func='EvalModel.ipynb',\n",
    "                     name='eval-model',\n",
    "                     kind='job',\n",
    "                     image=\"mlrun/ml-models-gpu\")\n",
    "project.set_function(func='UploadS3.ipynb',\n",
    "                     name='upload-s3',\n",
    "                     kind='job',\n",
    "                     image=\"mlrun/ml-models-gpu\")"
   ]
  },
  {
   "cell_type": "markdown",
   "metadata": {},
   "source": [
    "### Pipeline"
   ]
  },
  {
   "cell_type": "code",
   "execution_count": 8,
   "metadata": {},
   "outputs": [
    {
     "name": "stdout",
     "output_type": "stream",
     "text": [
      "Overwriting /User/igz_repos/igz-dogs-vs-cats-pipeline/project/workflow.py\n"
     ]
    }
   ],
   "source": [
    "%%writefile {path.join(project_path, 'workflow.py')}\n",
    "\n",
    "import os\n",
    "from kfp import dsl\n",
    "from mlrun import mount_v3io, NewTask\n",
    "import yaml\n",
    "\n",
    "with open(\"config.yaml\") as f:\n",
    "    config = yaml.safe_load(f)\n",
    "\n",
    "# image = f\"docker-registry.{os.getenv('IGZ_NAMESPACE_DOMAIN')}:80/inference-benchmarking-demo\"\n",
    "# image = \"mlrun/mlrun\"\n",
    "funcs = {}\n",
    "\n",
    "# Configure function resources and local settings\n",
    "def init_functions(functions: dict, project=None, secrets=None):\n",
    "    \n",
    "    # Mount V3IO filesystem\n",
    "    for fn in functions.values():\n",
    "        fn.apply(mount_v3io())\n",
    "        fn.apply(mount_v3io(name=\"csv\",\n",
    "                            remote=config[\"csv\"][\"s3_images_csv_remote_path\"],\n",
    "                            mount_path=config[\"csv\"][\"s3_images_csv_mount_path\"]))\n",
    "        fn.apply(mount_v3io(name=\"data\",\n",
    "                            remote=config[\"data\"][\"remote_download_path\"],\n",
    "                            mount_path=config[\"data\"][\"mount_download_path\"]))\n",
    "    \n",
    "    # Set env var configuation for S3 functions\n",
    "    s3_functions = ['download-s3', 'upload-s3']\n",
    "    for func in s3_functions:\n",
    "        functions[func].set_env('AWS_ACCESS_KEY_ID', config['aws']['aws_access_key_id'])\n",
    "        functions[func].set_env('AWS_SECRET_ACCESS_KEY', config['aws']['aws_secret_access_key'])\n",
    "        functions[func].set_env('AWS_DEFAULT_REGION', config['aws']['aws_default_region'])\n",
    "        \n",
    "#     functions['train-model'].with_limits(gpus=\"1\", gpu_type='nvidia.com/gpu')\n",
    "\n",
    "# Create a Kubeflow Pipelines pipeline\n",
    "@dsl.pipeline(\n",
    "    name=\"Dogs vs Cats Pipeline\",\n",
    "    description=\"Kubeflow Pipeline Demo with PyTorch on Dogs vs Cats Dataset\"\n",
    ")\n",
    "def kfpipeline(bucket_name:str = config['aws']['bucket_name'],\n",
    "               s3_images_csv:str = f'{config[\"csv\"][\"s3_images_csv_mount_path\"]}/{config[\"csv\"][\"s3_images_csv\"]}',\n",
    "               data_download_path:str = config['data']['mount_download_path'],\n",
    "               results_upload_path:str = config['aws']['results_upload_path'],\n",
    "               download_data:bool= config['data']['download_data'],\n",
    "               batch_size:int = config['data']['batch_size'],\n",
    "               img_dimensions:int = config['data']['img_dimensions'],\n",
    "               train_pct:float = config['data']['train_pct'],\n",
    "               val_pct:float = config['data']['val_pct'],\n",
    "               test_pct:float = config['data']['test_pct'],\n",
    "               epochs:int = config['train']['epochs'],\n",
    "               lr:list = config['train']['lr'],\n",
    "               layer_size:list = config['train']['layer_size'],\n",
    "               hyper_param_runs:int = config['train']['hyper_param_runs'],\n",
    "               device:str = config['train']['device'],\n",
    "               debug_logs:bool= config['project']['debug_logs']):    \n",
    "    \n",
    "    # Download Data from S3\n",
    "    inputs = {\"bucket_name\" : bucket_name,\n",
    "              \"s3_images_csv\" : s3_images_csv,\n",
    "              \"data_download_path\" : data_download_path,\n",
    "              \"download_data\" : download_data}\n",
    "    download_s3 = funcs['download-s3'].as_step(handler=\"handler\",\n",
    "                                               inputs=inputs,\n",
    "                                               outputs=[\"s3_image_csv_local\",\n",
    "                                                        \"data_download_path\"],\n",
    "                                               verbose=debug_logs)\n",
    "    \n",
    "    # Prep Data\n",
    "    inputs = {\"data_download_path\" : download_s3.outputs['data_download_path'],\n",
    "              \"batch_size\" : batch_size,\n",
    "              \"img_dimensions\" : img_dimensions,\n",
    "              \"train_pct\" : train_pct,\n",
    "              \"val_pct\" : val_pct,\n",
    "              \"test_pct\" : test_pct}\n",
    "    prep_data = funcs['prep-data'].as_step(handler=\"handler\",\n",
    "                                           inputs=inputs,\n",
    "                                           outputs=[\"train_data_loader\",\n",
    "                                                    \"validation_data_loader\",\n",
    "                                                    \"test_data_loader\"],\n",
    "                                           verbose=debug_logs)\n",
    "    \n",
    "    # Train Model\n",
    "    inputs = {\"train_data_loader\" : prep_data.outputs[\"train_data_loader\"],\n",
    "              \"validation_data_loader\" : prep_data.outputs[\"train_data_loader\"],\n",
    "              \"epochs\" : epochs,\n",
    "              \"batch_size\": batch_size,\n",
    "              \"device\" : device}\n",
    "    hyper_params = {'lr': lr,\n",
    "                    \"layer_size\" : layer_size,\n",
    "                    \"MAX_EVALS\": hyper_param_runs}\n",
    "    train_model = funcs['train-model'].as_step(handler=\"handler\",\n",
    "                                               inputs=inputs,\n",
    "                                               hyperparams=hyper_params,\n",
    "                                               runspec=NewTask(tuning_strategy=\"random\"),\n",
    "                                               selector=\"max.validation_accuracy\",\n",
    "                                               outputs=[\"model\"],\n",
    "                                               verbose=debug_logs)\n",
    "    \n",
    "    # Evaluate Model\n",
    "    inputs = {\"test_data_loader\" : prep_data.outputs[\"test_data_loader\"],\n",
    "              \"model\" : train_model.outputs[\"model\"],\n",
    "              \"device\" : device}\n",
    "    eval_model = funcs['eval-model'].as_step(handler=\"handler\",\n",
    "                                             inputs=inputs,\n",
    "                                             verbose=debug_logs)\n",
    "    \n",
    "    # Upload Model/Metrics to S3\n",
    "    inputs = {\"model\" : train_model.outputs[\"model\"],\n",
    "              \"bucket_name\" : bucket_name,\n",
    "              \"results_upload_path\" : results_upload_path}\n",
    "    upload_s3 = funcs['upload-s3'].as_step(handler=\"handler\",\n",
    "                                           inputs=inputs,\n",
    "                                           verbose=debug_logs)\n",
    "    upload_s3.after(eval_model)"
   ]
  },
  {
   "cell_type": "markdown",
   "metadata": {},
   "source": [
    "### Save Pipeline"
   ]
  },
  {
   "cell_type": "code",
   "execution_count": 9,
   "metadata": {},
   "outputs": [],
   "source": [
    "project.set_workflow('main', 'workflow.py')\n",
    "project.save()"
   ]
  },
  {
   "cell_type": "markdown",
   "metadata": {},
   "source": [
    "### Run Pipeline"
   ]
  },
  {
   "cell_type": "code",
   "execution_count": 10,
   "metadata": {},
   "outputs": [
    {
     "name": "stdout",
     "output_type": "stream",
     "text": [
      "> 2020-12-11 22:07:40,660 [info] using in-cluster config.\n"
     ]
    },
    {
     "data": {
      "text/html": [
       "Experiment link <a href=\"https://dashboard.default-tenant.app.us-sales.iguazio-cd2.com/pipelines/#/experiments/details/de03332a-d4ec-4fff-9d93-489fb7d16f26\" target=\"_blank\" >here</a>"
      ],
      "text/plain": [
       "<IPython.core.display.HTML object>"
      ]
     },
     "metadata": {},
     "output_type": "display_data"
    },
    {
     "data": {
      "text/html": [
       "Run link <a href=\"https://dashboard.default-tenant.app.us-sales.iguazio-cd2.com/pipelines/#/runs/details/cef65a90-b13e-49bf-b6d3-faeeb516a6d4\" target=\"_blank\" >here</a>"
      ],
      "text/plain": [
       "<IPython.core.display.HTML object>"
      ]
     },
     "metadata": {},
     "output_type": "display_data"
    },
    {
     "name": "stdout",
     "output_type": "stream",
     "text": [
      "> 2020-12-11 22:07:41,249 [info] Pipeline run id=cef65a90-b13e-49bf-b6d3-faeeb516a6d4, check UI or DB for progress\n"
     ]
    }
   ],
   "source": [
    "run_id = project.run(\n",
    "    'main',\n",
    "    arguments={},\n",
    "    artifact_path=path.abspath(path.join('pipeline','{{workflow.uid}}')), \n",
    "    dirty=True)"
   ]
  },
  {
   "cell_type": "code",
   "execution_count": 11,
   "metadata": {},
   "outputs": [],
   "source": [
    "from mlrun import wait_for_pipeline_completion, get_run_db\n",
    "wait_for_pipeline_completion(run_id);"
   ]
  },
  {
   "cell_type": "markdown",
   "metadata": {},
   "source": [
    "### View Uploaded Results Files"
   ]
  },
  {
   "cell_type": "code",
   "execution_count": 12,
   "metadata": {},
   "outputs": [
    {
     "name": "stdout",
     "output_type": "stream",
     "text": [
      "dogs_vs_cats/results/model_state_dict.pth\n",
      "dogs_vs_cats/results/prep_model.py\n",
      "dogs_vs_cats/results/results.csv\n"
     ]
    }
   ],
   "source": [
    "import boto3\n",
    "import os\n",
    "os.environ['AWS_ACCESS_KEY_ID'] = config['aws']['aws_access_key_id']\n",
    "os.environ['AWS_SECRET_ACCESS_KEY'] = config['aws']['aws_secret_access_key']\n",
    "os.environ['AWS_DEFAULT_REGION'] = config['aws']['aws_default_region']\n",
    "\n",
    "s3 = boto3.resource('s3')\n",
    "bucket = s3.Bucket(config['aws']['bucket_name'])\n",
    "\n",
    "for object_summary in bucket.objects.filter(Prefix=config['aws']['results_upload_path']):\n",
    "    print(object_summary.key)"
   ]
  },
  {
   "cell_type": "code",
   "execution_count": 13,
   "metadata": {},
   "outputs": [],
   "source": [
    "# bucket.download_file(\"dogs_vs_cats/results/prep_model.py\", \"prep_model.py\")\n",
    "# bucket.download_file(\"dogs_vs_cats/results/results.csv\", \"results.csv\")"
   ]
  },
  {
   "cell_type": "markdown",
   "metadata": {},
   "source": [
    "### Query Model Endpoint"
   ]
  },
  {
   "cell_type": "code",
   "execution_count": null,
   "metadata": {},
   "outputs": [],
   "source": []
  }
 ],
 "metadata": {
  "kernelspec": {
   "display_name": "Python [conda env:root] *",
   "language": "python",
   "name": "conda-root-py"
  },
  "language_info": {
   "codemirror_mode": {
    "name": "ipython",
    "version": 3
   },
   "file_extension": ".py",
   "mimetype": "text/x-python",
   "name": "python",
   "nbconvert_exporter": "python",
   "pygments_lexer": "ipython3",
   "version": "3.7.6"
  }
 },
 "nbformat": 4,
 "nbformat_minor": 4
}
