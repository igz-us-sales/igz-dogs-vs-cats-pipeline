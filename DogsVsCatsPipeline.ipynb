{
 "cells": [
  {
   "cell_type": "markdown",
   "metadata": {},
   "source": [
    "### Install MLRun"
   ]
  },
  {
   "cell_type": "code",
   "execution_count": 1,
   "metadata": {},
   "outputs": [],
   "source": [
    "# !pip install mlrun==0.5.4"
   ]
  },
  {
   "cell_type": "code",
   "execution_count": 2,
   "metadata": {},
   "outputs": [],
   "source": [
    "# !pip install --upgrade v3io"
   ]
  },
  {
   "cell_type": "markdown",
   "metadata": {},
   "source": [
    "### Load Config"
   ]
  },
  {
   "cell_type": "code",
   "execution_count": 3,
   "metadata": {},
   "outputs": [],
   "source": [
    "import yaml\n",
    "with open(\"config.yaml\") as f:\n",
    "    config = yaml.safe_load(f)"
   ]
  },
  {
   "cell_type": "markdown",
   "metadata": {},
   "source": [
    "### Setup Project"
   ]
  },
  {
   "cell_type": "code",
   "execution_count": 4,
   "metadata": {},
   "outputs": [
    {
     "name": "stdout",
     "output_type": "stream",
     "text": [
      "Project name: dogs-vs-cats-demo\n",
      "Project path: /User/igz_repos/igz-dogs-vs-cats-pipeline/project\n",
      "Artifacts path: /User/igz_repos/igz-dogs-vs-cats-pipeline/pipeline\n",
      "MLRun DB path: http://mlrun-api:8080\n"
     ]
    }
   ],
   "source": [
    "import os\n",
    "from os import path, getenv\n",
    "import nuclio\n",
    "from mlrun import new_project, code_to_function, run_local, NewTask, mlconf, import_function, mount_v3io, new_function\n",
    "\n",
    "project_name = config[\"project\"][\"name\"]\n",
    "project_path = path.abspath('project')\n",
    "project = new_project(name=project_name, context=project_path)\n",
    "artifact_path = path.abspath('pipeline')\n",
    "mlconf.dbpath = mlconf.dbpath or 'http://mlrun-api:8080'\n",
    "mlconf.log_level = \"DEBUG\"\n",
    "\n",
    "print(f'Project name: {project_name}\\nProject path: {project_path}')\n",
    "print(f'Artifacts path: {artifact_path}\\nMLRun DB path: {mlconf.dbpath}')"
   ]
  },
  {
   "cell_type": "markdown",
   "metadata": {},
   "source": [
    "### Build Docker Image"
   ]
  },
  {
   "cell_type": "code",
   "execution_count": 5,
   "metadata": {},
   "outputs": [],
   "source": [
    "image = f\"docker-registry.{os.getenv('IGZ_NAMESPACE_DOMAIN')}:80/{config['docker']['s3_image']}\""
   ]
  },
  {
   "cell_type": "code",
   "execution_count": 6,
   "metadata": {},
   "outputs": [],
   "source": [
    "# # Build Docker Image (only needs to be run once)\n",
    "# build_image = new_function(name=\"build-image\", kind=\"job\")\n",
    "# build_image.build_config(\n",
    "#     image=image, base_image=\"mlrun/mlrun\", commands=[\"pip install boto3\"]\n",
    "# )\n",
    "# build_image.deploy(with_mlrun=False)"
   ]
  },
  {
   "cell_type": "markdown",
   "metadata": {},
   "source": [
    "### Import Functions"
   ]
  },
  {
   "cell_type": "code",
   "execution_count": 7,
   "metadata": {},
   "outputs": [
    {
     "data": {
      "text/plain": [
       "<mlrun.runtimes.kubejob.KubejobRuntime at 0x7fd1cc1da190>"
      ]
     },
     "execution_count": 7,
     "metadata": {},
     "output_type": "execute_result"
    }
   ],
   "source": [
    "project.set_function(func='DownloadS3.ipynb',\n",
    "                     name='download-s3',\n",
    "                     kind='job',\n",
    "                     image=image)\n",
    "project.set_function(func='PrepData.ipynb',\n",
    "                     name='prep-data',\n",
    "                     kind='job',\n",
    "                     image=image)"
   ]
  },
  {
   "cell_type": "markdown",
   "metadata": {},
   "source": [
    "### Pipeline"
   ]
  },
  {
   "cell_type": "code",
   "execution_count": 10,
   "metadata": {},
   "outputs": [
    {
     "name": "stdout",
     "output_type": "stream",
     "text": [
      "Overwriting /User/igz_repos/igz-dogs-vs-cats-pipeline/project/workflow.py\n"
     ]
    }
   ],
   "source": [
    "%%writefile {path.join(project_path, 'workflow.py')}\n",
    "\n",
    "import os\n",
    "from kfp import dsl\n",
    "from mlrun import mount_v3io\n",
    "import yaml\n",
    "\n",
    "with open(\"config.yaml\") as f:\n",
    "    config = yaml.safe_load(f)\n",
    "\n",
    "# image = f\"docker-registry.{os.getenv('IGZ_NAMESPACE_DOMAIN')}:80/inference-benchmarking-demo\"\n",
    "# image = \"mlrun/mlrun\"\n",
    "funcs = {}\n",
    "\n",
    "# Configure function resources and local settings\n",
    "def init_functions(functions: dict, project=None, secrets=None):\n",
    "    \n",
    "    # Mount V3IO filesystem\n",
    "    for fn in functions.values():\n",
    "        fn.apply(mount_v3io())\n",
    "        fn.apply(mount_v3io(name=\"csv\",\n",
    "                            remote=config[\"csv\"][\"s3_images_csv_remote_path\"],\n",
    "                            mount_path=config[\"csv\"][\"s3_images_csv_mount_path\"]))\n",
    "        fn.apply(mount_v3io(name=\"data\",\n",
    "                            remote=config[\"data\"][\"remote_download_path\"],\n",
    "                            mount_path=config[\"data\"][\"mount_download_path\"]))\n",
    "    \n",
    "    # Set env var configuation for S3 functions\n",
    "    s3_functions = ['download-s3']\n",
    "    for func in s3_functions:\n",
    "        functions[func].set_env('AWS_ACCESS_KEY_ID', config['aws']['aws_access_key_id'])\n",
    "        functions[func].set_env('AWS_SECRET_ACCESS_KEY', config['aws']['aws_secret_access_key'])\n",
    "        functions[func].set_env('AWS_DEFAULT_REGION', config['aws']['aws_default_region'])\n",
    "\n",
    "# Create a Kubeflow Pipelines pipeline\n",
    "@dsl.pipeline(\n",
    "    name=\"Dogs vs Cats Pipeline\",\n",
    "    description=\"Kubeflow Pipeline Demo with PyTorch on Dogs vs Cats Dataset\"\n",
    ")\n",
    "def kfpipeline(bucket_name:str = config['aws']['bucket_name'],\n",
    "               s3_images_csv:str = f'{config[\"csv\"][\"s3_images_csv_mount_path\"]}/{config[\"csv\"][\"s3_images_csv\"]}',\n",
    "               data_download_path:str = config['data']['mount_download_path'],\n",
    "               download_data:bool=True,\n",
    "               debug_logs:bool=True):    \n",
    "    \n",
    "    with dsl.Condition(download_data==True):\n",
    "        inputs = {\"bucket_name\" : bucket_name,\n",
    "                  \"s3_images_csv\" : s3_images_csv,\n",
    "                  \"data_download_path\" : data_download_path}\n",
    "        download_s3 = funcs['download-s3'].as_step(handler=\"handler\",\n",
    "                                                   inputs=inputs,\n",
    "                                                   outputs=[\"s3_image_csv_local\"],\n",
    "                                                   verbose=debug_logs)\n",
    "        data_local = download_s3.outputs['s3_image_csv_local']\n",
    "    \n",
    "    with dsl.Condition(download_data==False):\n",
    "        data_local = s3_images_csv"
   ]
  },
  {
   "cell_type": "markdown",
   "metadata": {},
   "source": [
    "### Save Pipeline"
   ]
  },
  {
   "cell_type": "code",
   "execution_count": 11,
   "metadata": {},
   "outputs": [],
   "source": [
    "project.set_workflow('main', 'workflow.py')\n",
    "project.save()"
   ]
  },
  {
   "cell_type": "markdown",
   "metadata": {},
   "source": [
    "### Run Pipeline"
   ]
  },
  {
   "cell_type": "code",
   "execution_count": 12,
   "metadata": {},
   "outputs": [
    {
     "name": "stdout",
     "output_type": "stream",
     "text": [
      "> 2020-12-10 19:39:13,305 [info] using in-cluster config.\n"
     ]
    },
    {
     "data": {
      "text/html": [
       "Experiment link <a href=\"https://dashboard.default-tenant.app.us-sales.iguazio-cd2.com/pipelines/#/experiments/details/de03332a-d4ec-4fff-9d93-489fb7d16f26\" target=\"_blank\" >here</a>"
      ],
      "text/plain": [
       "<IPython.core.display.HTML object>"
      ]
     },
     "metadata": {},
     "output_type": "display_data"
    },
    {
     "data": {
      "text/html": [
       "Run link <a href=\"https://dashboard.default-tenant.app.us-sales.iguazio-cd2.com/pipelines/#/runs/details/6432d5cc-c5af-48ac-a9ab-886efc98be42\" target=\"_blank\" >here</a>"
      ],
      "text/plain": [
       "<IPython.core.display.HTML object>"
      ]
     },
     "metadata": {},
     "output_type": "display_data"
    },
    {
     "name": "stdout",
     "output_type": "stream",
     "text": [
      "> 2020-12-10 19:39:13,512 [info] Pipeline run id=6432d5cc-c5af-48ac-a9ab-886efc98be42, check UI or DB for progress\n"
     ]
    }
   ],
   "source": [
    "run_id = project.run(\n",
    "    'main',\n",
    "    arguments={},\n",
    "    artifact_path=path.abspath(path.join('pipeline','{{workflow.uid}}')), \n",
    "    dirty=True)"
   ]
  },
  {
   "cell_type": "code",
   "execution_count": 13,
   "metadata": {},
   "outputs": [],
   "source": [
    "from mlrun import wait_for_pipeline_completion, get_run_db\n",
    "wait_for_pipeline_completion(run_id);"
   ]
  }
 ],
 "metadata": {
  "kernelspec": {
   "display_name": "Python [conda env:root] *",
   "language": "python",
   "name": "conda-root-py"
  },
  "language_info": {
   "codemirror_mode": {
    "name": "ipython",
    "version": 3
   },
   "file_extension": ".py",
   "mimetype": "text/x-python",
   "name": "python",
   "nbconvert_exporter": "python",
   "pygments_lexer": "ipython3",
   "version": "3.7.6"
  }
 },
 "nbformat": 4,
 "nbformat_minor": 4
}
